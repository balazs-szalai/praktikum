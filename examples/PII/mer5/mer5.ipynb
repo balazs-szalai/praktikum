{
 "cells": [
  {
   "cell_type": "code",
   "execution_count": 17,
   "id": "834e82e2",
   "metadata": {},
   "outputs": [],
   "source": [
    "%config IPCompleter.greedy=True"
   ]
  },
  {
   "cell_type": "code",
   "execution_count": 18,
   "id": "d246747b",
   "metadata": {},
   "outputs": [],
   "source": [
    "import numpy as np\n",
    "import matplotlib.pyplot as plt\n",
    "import praktikum as p\n",
    "import pandas as pd"
   ]
  },
  {
   "cell_type": "code",
   "execution_count": 19,
   "id": "889486e6",
   "metadata": {},
   "outputs": [],
   "source": [
    "data = pd.read_excel(r'C:\\Users\\balaz\\Desktop\\MFF_UK\\2. rocník ZS\\praktikum\\mer5\\mer5.xlsx')"
   ]
  },
  {
   "cell_type": "code",
   "execution_count": 20,
   "id": "86ce9300",
   "metadata": {},
   "outputs": [],
   "source": [
    "volt_m_a = np.array(data.iloc[2:11, :2])\n",
    "volt_m = {}\n",
    "for key, value in volt_m_a:\n",
    "    volt_m[key] = value*1000\n",
    "\n",
    "s_volt_m = {}\n",
    "for key, value in volt_m_a:\n",
    "    if value*1000 < 6000:\n",
    "        s_volt_m[key] = value*1000*0.9/100+1\n",
    "    elif value*1000 < 60_000:\n",
    "        s_volt_m[key] = value*1000*0.9/100+10\n",
    "    elif value*1000 < 600_000:\n",
    "        s_volt_m[key] = value*1000*0.9/100+100"
   ]
  },
  {
   "cell_type": "code",
   "execution_count": 21,
   "id": "e106450e",
   "metadata": {},
   "outputs": [],
   "source": [
    "amp_m_a = np.array(data.iloc[2:8,2:4])\n",
    "amp_m = {}\n",
    "for key, value in amp_m_a:\n",
    "    amp_m[key] = value\n",
    "\n",
    "s_amp_m = {}\n",
    "for key, value in amp_m_a:\n",
    "    if value < 600:\n",
    "        s_amp_m[key] = value*0.9/100+0.1"
   ]
  },
  {
   "cell_type": "code",
   "execution_count": 22,
   "id": "08249a8a",
   "metadata": {},
   "outputs": [],
   "source": [
    "from math import sqrt\n",
    "def trida_pres(spec, trid=2):\n",
    "    return spec*trid/sqrt(3)/100"
   ]
  },
  {
   "cell_type": "code",
   "execution_count": 23,
   "id": "c74b17c9",
   "metadata": {},
   "outputs": [],
   "source": [
    "v_spec = np.array(data.iloc[2:, 7])\n",
    "v_val_a = np.array(data.iloc[2:, 8])\n",
    "v_val_b = np.array(data.iloc[2:, 13])\n",
    "\n",
    "a_spec = np.array(data.iloc[2:, 10])\n",
    "a_val_a = np.array(data.iloc[2:, 11])\n",
    "a_val_b = np.array(data.iloc[2:, 15])\n",
    "\n",
    "U_a = np.array([spec*val/150 for spec, val in zip(v_spec, v_val_a)])\n",
    "s_Ua = np.array([trida_pres(spec) for spec, val in zip(v_spec, v_val_a)])\n",
    "\n",
    "I_a = np.array([spec*val/150 for spec, val in zip(a_spec, a_val_a)])\n",
    "s_Ia = np.array([trida_pres(spec) for spec, val in zip(a_spec, a_val_a)])\n",
    "\n",
    "U_b = np.array([spec*val/150 for spec, val in zip(v_spec, v_val_b)])\n",
    "s_Ub = np.array([trida_pres(spec) for spec, val in zip(v_spec, v_val_b)])\n",
    "\n",
    "I_b = np.array([spec*val/150 for spec, val in zip(a_spec, a_val_b)])\n",
    "s_Ib = np.array([trida_pres(spec) for spec, val in zip(a_spec, a_val_b)])"
   ]
  },
  {
   "cell_type": "code",
   "execution_count": 24,
   "id": "783c1a6e",
   "metadata": {},
   "outputs": [],
   "source": [
    "def a_kor(U_a, I_a, spec_a):\n",
    "    return U_a/(I_a/1000)-spec_a\n",
    "\n",
    "def b_kor(U_b, I_b, spec_v):\n",
    "    return 1/((I_b/1000)/U_b-1/spec_v)"
   ]
  },
  {
   "cell_type": "code",
   "execution_count": 25,
   "id": "ec75496e",
   "metadata": {},
   "outputs": [
    {
     "name": "stdout",
     "output_type": "stream",
     "text": [
      "CPU times: total: 0 ns\n",
      "Wall time: 1.07 ms\n"
     ]
    }
   ],
   "source": [
    "%%time\n",
    "s_amp_spec = [s_amp_m[a_spec[i]] for i in range(len(a_spec))]\n",
    "s_volt_spec = [s_volt_m[v_spec[i]] for i in range(len(v_spec))]\n",
    "\n",
    "amp_spec = [amp_m[a_spec[i]] for i in range(len(a_spec))]\n",
    "volt_spec = [volt_m[v_spec[i]] for i in range(len(v_spec))]\n",
    "\n",
    "R_a_kor = np.array([a_kor(U_a[i], I_a[i], amp_spec[i]) for i in range(len(U_a))])\n",
    "s_R_a_kor = p.prenos_chyb_multi(a_kor, [s_Ua, s_Ia, s_amp_spec], [U_a, I_a, amp_spec])\n",
    "\n",
    "R_b_kor = np.array([b_kor(U_b[i], I_b[i], volt_spec[i]) for i in range(len(U_b))])\n",
    "s_R_b_kor = p.prenos_chyb_multi(b_kor, [s_Ub, s_Ib, s_volt_spec], [U_b, I_b, volt_spec])"
   ]
  },
  {
   "cell_type": "code",
   "execution_count": 26,
   "id": "649dbb95-8d01-44a0-a06d-920040145fc1",
   "metadata": {},
   "outputs": [],
   "source": [
    "def div(a, b):\n",
    "    return a/(b/1000)\n",
    "R_a = div(U_a, I_a)\n",
    "s_Ra = p.prenos_chyb_multi(div, [s_Ua, s_Ia], [U_a, I_a])\n",
    "\n",
    "R_b = div(U_b, I_b)\n",
    "s_Rb = p.prenos_chyb_multi(div, [s_Ub, s_Ib], [U_b, I_b])\n",
    "\n",
    "R = div(U_b, I_a)\n",
    "s_R = p.prenos_chyb_multi(div, [s_Ub, s_Ia], [U_b, I_a])"
   ]
  },
  {
   "cell_type": "code",
   "execution_count": 27,
   "id": "c79f4331-7116-45e1-9809-aae62ab1795a",
   "metadata": {},
   "outputs": [],
   "source": [
    "table1 = p.default_table(pd.DataFrame({'$I_{max}$ [mA]': p.readable(amp_m.keys()),\n",
    "                       '$R$ [$\\Omega$]': p.readable(amp_m.values(), s_amp_m.values())}), 'table1', 'odpory analógového ampérmetra pre všetky rozsahy')\n",
    "table2 = p.default_table(pd.DataFrame({'$U_{max}$ [V]': p.readable(volt_m.keys()),\n",
    "                       '$R$ [$k\\Omega$]': p.readable(np.array(list(volt_m.values()))/1000, np.array(list(s_volt_m.values()))/1000)}), \"table2\", \"odpory analógového voltmetra pre všetky rozsahy\")"
   ]
  },
  {
   "cell_type": "code",
   "execution_count": 28,
   "id": "69a35c63-d8ea-488f-9792-a0cf43cbe057",
   "metadata": {},
   "outputs": [],
   "source": [
    "table3 = p.default_table(pd.DataFrame({'$U_a$ [V]': p.readable(U_a, s_Ua),\n",
    "                       '$I_a$ [mA]': p.readable(I_a, s_Ia),\n",
    "                       '$U_b$ [V]': p.readable(U_b, s_Ub),\n",
    "                       '$I_b$ [mA]': p.readable(I_b, s_Ib)}), 'table3', 'namerané hodnoty napätia a prúdu pre zapojenia $a$ a $b$ včetne chyb meracích prístrojov')"
   ]
  },
  {
   "cell_type": "code",
   "execution_count": 33,
   "id": "bddc7652-6c14-43b4-92b7-6d2211cbcd35",
   "metadata": {},
   "outputs": [],
   "source": [
    "table4 = p.default_table(\n",
    "    pd.DataFrame({\n",
    "        '$R_a \\enspace [\\Omega]$ - bez korekcie': p.readable(R_a, s_Ra),\n",
    "        '$R_{a_{kor}} \\enspace [\\Omega]$ - s korekciou': p.readable(R_a_kor, s_R_a_kor),\n",
    "        '$R_b \\enspace [\\Omega]$ - bez korekcie': p.readable(R_b, s_Rb),\n",
    "        '$R_{b_{kor}} \\enspace [\\Omega]$ - s korekciou': p.readable(R_b_kor, s_R_b_kor)\n",
    "        #,'$R \\enspace [\\Omega]$': p.readable(R, s_R)\n",
    "    }), \n",
    "    'table4',\n",
    "    'vypočítané hodnoty odporov pre zapojenia $a$ a $b$ s korekciu a bez korekcie a vypočítané hodnoty miešane $R = \\frac{U_b}{I_a}')"
   ]
  },
  {
   "cell_type": "code",
   "execution_count": 51,
   "id": "4f9ea293-daf1-476a-b9f6-1c0a17873393",
   "metadata": {},
   "outputs": [],
   "source": [
    "I_a, I_b, R_a, R_a_kor, R_b_kor, s_Ia, s_Ib, s_Ra, s_Rb, s_R_a_kor, s_R_b_kor, s_R = np.array(I_a), np.array(I_b), np.array(R_a), np.array(R_a_kor), np.array(R_b_kor), np.array(s_Ia), np.array(s_Ib), np.array(s_Ra), np.array(s_Rb), np.array(s_R_a_kor), np.array(s_R_b_kor), np.array(s_R)\n",
    "\n",
    "aa = np.argsort(I_a)\n",
    "ab = np.argsort(I_b)\n",
    "slc = slice(6, None)\n",
    "\n",
    "fig, ax = p.default_plot([I_a[aa][slc], I_a[aa][slc], I_b[ab][slc], I_b[ab][slc], I_a[aa][slc]], \n",
    "                         [R_a[aa][slc], R_a_kor[aa][slc], R_b[ab][slc], R_b_kor[ab][slc], R[aa][slc]], 'I [mA]', 'R [$\\Omega$]',\n",
    "                         legend = ['$R_a \\enspace [\\Omega]$ - bez korekcie',\n",
    "                                   '$R_{a_{kor}} \\enspace [\\Omega]$ - s korekciou',\n",
    "                                   '$R_b \\enspace [\\Omega]$ - bez korekcie',\n",
    "                                   '$R_{b_{kor}} \\enspace [\\Omega]$ - s korekciou',\n",
    "                                   '$R \\enspace [\\Omega]$'],\n",
    "                         xerror = [s_Ia[aa][slc], s_Ia[aa][slc], s_Ib[ab][slc], s_Ib[ab][slc], s_Ia[aa][slc]],\n",
    "                         yerror = [s_Ra[aa][slc], s_R_a_kor[aa][slc], s_Rb[ab][slc], s_R_b_kor[ab][slc], s_R[aa][slc]], marker = \"-o\")"
   ]
  },
  {
   "cell_type": "code",
   "execution_count": 40,
   "id": "57054418-1369-43e3-a357-1e2e869cca83",
   "metadata": {},
   "outputs": [],
   "source": [
    "a_spec = np.array(data.iloc[2:8, 20])\n",
    "a_val = np.array(data.iloc[2:8, 21])\n",
    "\n",
    "I = np.array([spec*val/150 for spec, val in zip(a_spec, a_val)])\n",
    "s_I = np.array([trida_pres(spec) for spec, val in zip(a_spec, a_val_a)])\n",
    "\n",
    "R_n = np.array(data.iloc[2:8, 23])\n",
    "s_Rn = np.array([1]*len(R_n))"
   ]
  },
  {
   "cell_type": "code",
   "execution_count": 41,
   "id": "583e6278-e54d-4d4d-b2f7-66ff75e93e55",
   "metadata": {},
   "outputs": [
    {
     "name": "stdout",
     "output_type": "stream",
     "text": [
      "\\begin{table}[H]\n",
      "\t\\caption{namerané hodnoty prúdu a odporu substitučnou metódou}\n",
      "\t\\label{table5}\n",
      "\t\\begin{center}\n",
      "\t\t\\begin{tabular}{|l|l|l|}\n",
      "\t\t\t\\cline{1-3}\n",
      "\t\t & I [mA] & $R_n \\enspace [\\Omega]$ \\\\\n",
      "\t\t\t\\cline{1-3}\n",
      "\t\t0 & $ 1.20 \\pm  0.02$ & $161 \\pm 1$ \\\\\n",
      "\t\t\t\\cline{1-3}\n",
      "\t\t1 & $ 2.36 \\pm  0.03$ & $111 \\pm 1$ \\\\\n",
      "\t\t\t\\cline{1-3}\n",
      "\t\t2 & $ 6.05 \\pm  0.09$ & $223 \\pm 1$ \\\\\n",
      "\t\t\t\\cline{1-3}\n",
      "\t\t3 & $ 12.0 \\pm  0.2$ & $353 \\pm 1$ \\\\\n",
      "\t\t\t\\cline{1-3}\n",
      "\t\t4 & $ 24.0 \\pm  0.3$ & $546 \\pm 1$ \\\\\n",
      "\t\t\t\\cline{1-3}\n",
      "\t\t5 & $ 30.0 \\pm  0.9$ & $637 \\pm 1$ \\\\\n",
      "\t\t\t\\cline{1-3}\n",
      "\t\\end{tabular}\n",
      "\t\\end{center}\n",
      "\\end{table}\n"
     ]
    }
   ],
   "source": [
    "table5 = pd.DataFrame({\n",
    "    'I [mA]': p.readable(I, s_I),\n",
    "    '$R_n \\enspace [\\Omega]$': p.readable(R_n, s_Rn)\n",
    "})\n",
    "table5 = p.default_table(table5, 'table5', 'namerané hodnoty prúdu a odporu substitučnou metódou')\n",
    "print(table5)"
   ]
  },
  {
   "cell_type": "code",
   "execution_count": 86,
   "id": "81b2be0c-e59b-4284-9b72-ac55805d8d31",
   "metadata": {},
   "outputs": [],
   "source": [
    "fig1, ax1 = p.default_plot([I_a[aa][1:], I_b[ab][1:], I], \n",
    "                         [R_a_kor[aa][1:], R_b_kor[ab][1:], R_n], 'I [mA]', 'R [$\\Omega$]',\n",
    "                         legend = ['$R_{a_{kor}} \\enspace [\\Omega]$ - s korekciou',\n",
    "                                   '$R_{b_{kor}} \\enspace [\\Omega]$ - s korekciou',\n",
    "                                   '$R_n \\enspace [\\Omega]$'],\n",
    "                         xerror = [s_Ia[aa][1:], s_Ib[ab][1:], s_I],\n",
    "                         yerror = [s_R_a_kor[aa][1:], s_R_b_kor[ab][1:], s_Rn], marker = \"-o\")"
   ]
  },
  {
   "cell_type": "code",
   "execution_count": 71,
   "id": "d7578adc-cd7f-41da-8c9a-260c90ac432b",
   "metadata": {},
   "outputs": [
    {
     "name": "stdout",
     "output_type": "stream",
     "text": [
      "CPU times: total: 484 ms\n",
      "Wall time: 2.88 s\n"
     ]
    }
   ],
   "source": [
    "%%time\n",
    "slc = (I_a>1)*(I_a<2.5)\n",
    "a, b = p.lin_fit(I_a[slc], R_a_kor[slc], [s_Ia[slc], s_R_a_kor[slc]])\n",
    "a, s_a = a\n",
    "b, s_b = b"
   ]
  },
  {
   "cell_type": "code",
   "execution_count": 77,
   "id": "d78ccc39-f927-43db-a6e4-59aae7baa978",
   "metadata": {},
   "outputs": [],
   "source": [
    "def lin(y, a, b):\n",
    "    return (y-b)/a\n",
    "R0 = 91\n",
    "s_R0 = R0*0.9/100+0.2\n",
    "R00 = lin(R0, a, b)\n",
    "s_R00 = p.prenos_chyb(lin, [s_R0, s_a, s_b], [R0, a, b])"
   ]
  }
 ],
 "metadata": {
  "kernelspec": {
   "display_name": "Python 3 (Spyder)",
   "language": "python3",
   "name": "python3"
  },
  "language_info": {
   "codemirror_mode": {
    "name": "ipython",
    "version": 3
   },
   "file_extension": ".py",
   "mimetype": "text/x-python",
   "name": "python",
   "nbconvert_exporter": "python",
   "pygments_lexer": "ipython3",
   "version": "3.11.5"
  }
 },
 "nbformat": 4,
 "nbformat_minor": 5
}
